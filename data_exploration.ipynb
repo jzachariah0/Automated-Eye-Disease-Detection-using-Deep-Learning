# Data Exploration

## Overview

In this notebook, we will explore the eye disease dataset to gain a better understanding of the data and prepare it for modeling.

## Dataset

The eye disease dataset contains two classes:
- Disease
- Normal

The dataset is split into two directories: `train` and `test`, each containing two subdirectories: `disease` and `normal`.

## Import Libraries

We will begin by importing the necessary Python libraries.

```python
import numpy as np
import pandas as pd
import matplotlib.pyplot as plt
import seaborn as sns
import os
import cv2
